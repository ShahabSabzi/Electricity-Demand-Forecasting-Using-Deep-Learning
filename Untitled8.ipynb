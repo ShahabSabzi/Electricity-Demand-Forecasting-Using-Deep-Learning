{
  "nbformat": 4,
  "nbformat_minor": 0,
  "metadata": {
    "colab": {
      "name": "Untitled8.ipynb",
      "provenance": [],
      "authorship_tag": "ABX9TyPca0CpFTMFXxHR+SUZQ+6l",
      "include_colab_link": true
    },
    "kernelspec": {
      "name": "python3",
      "display_name": "Python 3"
    },
    "language_info": {
      "name": "python"
    }
  },
  "cells": [
    {
      "cell_type": "markdown",
      "metadata": {
        "id": "view-in-github",
        "colab_type": "text"
      },
      "source": [
        "<a href=\"https://colab.research.google.com/github/ShahabSabzi/Electricity-Demand-Forecasting-Using-Deep-Learning/blob/main/Untitled8.ipynb\" target=\"_parent\"><img src=\"https://colab.research.google.com/assets/colab-badge.svg\" alt=\"Open In Colab\"/></a>"
      ]
    },
    {
      "cell_type": "code",
      "source": [
        "# Bowling-like game score calculator in Phyton\n",
        "# Writer of the code: Shahab Sabzi\n",
        "# email: shahab.sabzi@gmail.com\n",
        "# Phone: 06205402275"
      ],
      "metadata": {
        "id": "ykZqJv03ITsE"
      },
      "execution_count": null,
      "outputs": []
    },
    {
      "cell_type": "code",
      "source": [
        "list = '53 72 x x 7/ 9/ 24 6/ x x x 5'\n",
        "frames = list.split()\n",
        "ff = frames[:]"
      ],
      "metadata": {
        "id": "lNngGYyoY9cK"
      },
      "execution_count": 231,
      "outputs": []
    },
    {
      "cell_type": "code",
      "source": [
        "# In this function I will convert the input list of frames to a list of \n",
        "# meaningful numbers. For example, x will be 10, 4/ will be 46, -2 will be 2.\n",
        "\n",
        "def conversion_to_real_numbers(scores):\n",
        "  for index, value in enumerate(scores):\n",
        "    value=str(value)    \n",
        "    #strike\n",
        "    if value == 'x':\n",
        "      scores[index]=\"10\"   \n",
        "    #spare\n",
        "    elif \"/\" in value:\n",
        "      scores[index]= value[0]+str(10-int(value[0]))  \n",
        "    #miss\n",
        "    elif value == \"-\":\n",
        "        scores[index] = '0'\n",
        "    elif len(value)>1 and '-' in value:\n",
        "        scores[index] = scores[index].replace(\"-\",'')\n",
        "  return scores"
      ],
      "metadata": {
        "id": "n33sYFJFZDdT"
      },
      "execution_count": 227,
      "outputs": []
    },
    {
      "cell_type": "code",
      "source": [
        "# Here, I will calculate the scores for every frame. For example, if a frame is\n",
        "# strike, I will add 10 + the sum of next two throws to the total score.\n",
        "\n",
        "\n",
        "def score_calculation(frames, frames2):\n",
        "  score=0\n",
        "  for f in range(10):      \n",
        "    #hit\n",
        "    if frames[f] != 'x' and \"/\" not in frames[f] and \"-\" not in frames[f]:\n",
        "      score += int(frames2[f][0]) + int(frames2[f][1])       \n",
        "    #spare\n",
        "    elif \"/\" in frames[f] and frames[f+1] != 'x':\n",
        "        score += 10 + int(frames2[f+1][0])\n",
        "    elif \"/\" in frames[f] and frames[f+1] == 'x':\n",
        "        score += 20          \n",
        "    #strike\n",
        "    elif frames[f] == 'x' and frames[f+1] == \"x\" and frames[f+2] == \"x\":\n",
        "        score += 30\n",
        "    elif frames[f] == 'x' and frames[f+1] == \"x\" and frames[f+2] != \"x\":\n",
        "        score += 20 + int(frames2[f+2][0])\n",
        "    elif frames[f] == 'x' and frames[f+1] != \"x\" and frames[f+2] != \"x\":\n",
        "        score += 10 + int(frames2[f+1][0]) + int(frames2[f+1][1])    \n",
        "        #miss\n",
        "    elif \"-\" in frames[f] and len(frames[f])==1:\n",
        "      score += 0\n",
        "    elif len(frames[f])==2 and \"-\" in frames[f]:\n",
        "      score += int(frames2[f])\n",
        "    #print(score)\n",
        "  return score"
      ],
      "metadata": {
        "id": "VdKWocuIZayr"
      },
      "execution_count": 228,
      "outputs": []
    },
    {
      "cell_type": "code",
      "source": [
        "frames2 = conversion_to_real_numbers(ff)"
      ],
      "metadata": {
        "id": "2LDAS6nZ_CcX"
      },
      "execution_count": 232,
      "outputs": []
    },
    {
      "cell_type": "code",
      "source": [
        "score_calculation(frames, frames2)"
      ],
      "metadata": {
        "colab": {
          "base_uri": "https://localhost:8080/",
          "height": 0
        },
        "id": "q2yv2AMnc_Y9",
        "outputId": "8a49dd6b-5f76-4b4f-c887-ba955ae54a32"
      },
      "execution_count": 233,
      "outputs": [
        {
          "output_type": "execute_result",
          "data": {
            "text/plain": [
              "176"
            ]
          },
          "metadata": {},
          "execution_count": 233
        }
      ]
    }
  ]
}